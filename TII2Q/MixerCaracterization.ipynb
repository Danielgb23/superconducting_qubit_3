{
 "cells": [
  {
   "cell_type": "markdown",
   "id": "e244f3d3-6192-4c1e-b2d7-30bda56f4a34",
   "metadata": {},
   "source": [
    "# Importar drivers"
   ]
  },
  {
   "cell_type": "markdown",
   "id": "813c2067-54fe-4bd9-9a38-2c0ad101b40a",
   "metadata": {},
   "source": [
    "## Os drivers estão todos localizados na pasta Instruments"
   ]
  },
  {
   "cell_type": "code",
   "execution_count": 1,
   "id": "c80b055e-058d-47b9-8663-69ae1509758b",
   "metadata": {},
   "outputs": [],
   "source": [
    "from instruments.M8195A_driver import * # Driver do AWG\n",
    "from instruments.ATS9872_driver import * # Placa Alazar"
   ]
  },
  {
   "cell_type": "markdown",
   "id": "05c9f467-d0b4-4a7c-bd71-9a00cb7563dc",
   "metadata": {},
   "source": [
    "## A biblioteca de medida está localizada na pasta measurements."
   ]
  },
  {
   "cell_type": "code",
   "execution_count": 2,
   "id": "311e0b1f-a7d5-4e82-b22c-530ec0849cfb",
   "metadata": {},
   "outputs": [],
   "source": [
    "from measurements.DataChannelManager import * # Contém classe que gerencia os dados para serem carregados no AWG\n",
    "from measurements.PulseSequence import * # Classe que estratura e sequencia os pulsos\n",
    "\n",
    "# Diferentes tipos de pulsos que podem ser usados\n",
    "\n",
    "from measurements.waveforms.SquarePulse import *\n",
    "from measurements.waveforms.SquareSideBandPulse import *\n",
    "from measurements.waveforms.ZeroPulse import *\n",
    "from measurements.waveforms.GaussianPulse import *\n",
    "from measurements.waveforms.DragPulse import *"
   ]
  },
  {
   "cell_type": "markdown",
   "id": "a4596704-4539-47bc-ba07-e601d92284a2",
   "metadata": {},
   "source": [
    "# Biblioteca dos Outros Instrumentos"
   ]
  },
  {
   "cell_type": "code",
   "execution_count": 3,
   "id": "33598574-f631-4d7f-80ca-e8d58991cd65",
   "metadata": {},
   "outputs": [],
   "source": [
    "# drivers de controle dos instrumentos\n",
    "from instruments.ATS9872_driver import * # alazar placa de aquisição\n",
    "from instruments.DG645_driver import * # delay generator \n",
    "from instruments.M8195A_driver import * # awg\n",
    "from instruments.E8257D_driver import * #RF source\n",
    "from instruments.E5063A_driver import * #VNA\n",
    "from instruments.Agilent11713C_driver import * # attenuator\n",
    "from instruments.SIM928_driver import * # Voltage source\n",
    "from instruments.SIM970_driver import * # Voltage meter"
   ]
  },
  {
   "cell_type": "markdown",
   "id": "70a293f8-76d5-4bd9-aabb-89b751a094eb",
   "metadata": {},
   "source": [
    "## Outras bibliotecas para ajudar na medida"
   ]
  },
  {
   "cell_type": "code",
   "execution_count": 4,
   "id": "d83bb47f-4641-42e9-9c78-b4a83e69587e",
   "metadata": {},
   "outputs": [],
   "source": [
    "import numpy as np\n",
    "import matplotlib.pyplot as plt\n",
    "from time import sleep\n",
    "import struct\n",
    "from IPython.display import clear_output\n",
    "from datetime import datetime"
   ]
  },
  {
   "cell_type": "markdown",
   "id": "63083510-bd22-4299-af19-958f343b94f6",
   "metadata": {},
   "source": [
    "# Configura os outros Instrumentos"
   ]
  },
  {
   "cell_type": "code",
   "execution_count": 5,
   "id": "c61386de-112c-49de-a08e-9d277e044275",
   "metadata": {},
   "outputs": [],
   "source": [
    "#att_address='TCPIP0::169.254.101.101::inst0::INSTR'\n",
    "#RFsourceMeasurement_address='TCPIP0::169.254.101.103::inst0::INSTR'\n",
    "RFsourceExcitation_address='TCPIP0::169.254.101.104::inst0::INSTR'\n",
    "#Voltsource_address='GPIB0::2::INSTR'\n",
    "#Voltsource_channel=8\n",
    "#Voltmeter_address='GPIB0::2::INSTR'\n",
    "#Voltmeter_channel=5\n",
    "#vna = E5063A_driver(\"TCPIP0::169.254.101.105::inst0::INSTR\")\n",
    "# alazar, placa de aquisição\n",
    "#inst_att = Agilent11713C_driver(att_address)\n",
    "#inst_RFsourceMeasurement = E8257D_driver(RFsourceMeasurement_address)\n",
    "inst_RFsourceExcitation = E8257D_driver(RFsourceExcitation_address)\n",
    "#inst_voltsource =  SIM928_driver(Voltsource_address,Voltsource_channel,step_time=0.1,step_voltage=0.001)\n",
    "#inst_voltmeter = SIM970_driver(Voltmeter_address,Voltmeter_channel)"
   ]
  },
  {
   "cell_type": "code",
   "execution_count": 6,
   "id": "ae59170d-5cf4-49bd-8f3a-2bea0173bd91",
   "metadata": {},
   "outputs": [],
   "source": [
    "# inst_att = Agilent11713C_driver(att_address)"
   ]
  },
  {
   "cell_type": "code",
   "execution_count": 7,
   "id": "a293cc90-2bb9-41b4-898c-7a95b370d5ef",
   "metadata": {},
   "outputs": [],
   "source": [
    "# inst_att.get_attenuation()"
   ]
  },
  {
   "cell_type": "markdown",
   "id": "c95304db-60e0-4a2a-903d-9637e996251c",
   "metadata": {},
   "source": [
    "## Configura as fontes"
   ]
  },
  {
   "cell_type": "code",
   "execution_count": 8,
   "id": "36b3a99e-98a5-40b2-a121-d41668fa5fac",
   "metadata": {},
   "outputs": [],
   "source": [
    "# temos que configurar a fonte no modo de pulsos com trigger externo\n",
    "# a polaridade escolhida da fonte depende do canal utilizado do awg.\n",
    "# todo canal do awg é duplicado. Ele vai ter um canal normal e outro que idêntico ao normal só que invertido.\n",
    "# A fonte de medida recebe o invertido enquando a placa alazar recebe o normal. Eu faço isso para\n",
    "# manter o nível do trigger igual em ambos.\n",
    "#inst_RFsourceMeasurement.set_pulse_trigger_external()\n",
    "#inst_RFsourceMeasurement.setPulsePolarityInverted()\n",
    "#inst_RFsourceMeasurement.start_mod()\n",
    "\n",
    "\n",
    "# A fonte de excitação recebe o canal 3 - marker 1 -  normal\n",
    "inst_RFsourceExcitation.set_pulse_trigger_external()\n",
    "inst_RFsourceExcitation.setPulsePolarityNormal()\n",
    "inst_RFsourceExcitation.start_mod()\n",
    "\n",
    "# Configuramos amplitude do sinal da fonte de medida. Ela tem que ser o suficiente para alimentar os mixers que heterodinagem.\n",
    "# calculamos que seu valor deve ser 18 dBm.\n",
    "#inst_RFsourceMeasurement.set_amplitude(18)\n",
    "\n",
    "# A fonte de excitação não é necessariamente usada no processo de medida da cavidade (a menos que se queira ver os deslocamento dispersivo de frequência)\n",
    "# no caso sua amplitude é por volta de 11 dBm\n",
    "inst_RFsourceExcitation.set_amplitude(11)"
   ]
  },
  {
   "cell_type": "code",
   "execution_count": 9,
   "id": "da2cd10f-8531-4525-9594-835e64b8a862",
   "metadata": {},
   "outputs": [],
   "source": [
    "# parar as fontes\n",
    "#inst_RFsourceMeasurement.stop_rf()\n",
    "inst_RFsourceExcitation.stop_rf()"
   ]
  },
  {
   "cell_type": "markdown",
   "id": "2d737462-c0c3-4137-a925-1b5403f57bb8",
   "metadata": {},
   "source": [
    "## Configurar AWG"
   ]
  },
  {
   "cell_type": "code",
   "execution_count": 10,
   "id": "696fa0f4-3166-4d49-bdfd-fd43ebb992fa",
   "metadata": {},
   "outputs": [],
   "source": [
    "inst_awg = M8195A_driver('169.254.101.100')\n",
    "\n",
    "inst_awg.setSampleRate(64e9)\n",
    "\n",
    "# tem que conectar também o awg a nossa referência de rubídio 10 MHz\n",
    "inst_awg.setRefInClockExternal()  \n",
    "inst_awg.setRefInClockFrequency(10e6)\n",
    "\n",
    "# configura o awg para usar dois canais (um de excitação, outro de medida) e usar dois markers\n",
    "# o canal 1 gerará o sinal de excitação I e o sinal de medida\n",
    "# o canal 2 gerará o sinal de excitação Q\n",
    "# o canal 3 será o marker 1 - para ligar a fonte 2, fonte de excitação\n",
    "# o canal 4 será o marker 2 - para ligar a fonte 1, de medida, e para trigar a placa de aquisição alazar\n",
    "inst_awg.setDualWithMarker()\n",
    "\n",
    "# dividir a memória em 2\n",
    "inst_awg.setMemoryDivision(2)\n",
    "# usar a memória externa para o canal 2\n",
    "inst_awg.setChannelMemoryToExtended(2)\n",
    "\n",
    "\n",
    "# markers should have 1 V amplitude and offset 0.5\n",
    "inst_awg.setVoltage(3,1) \n",
    "inst_awg.setVoltage(4,1)\n",
    "\n",
    "inst_awg.setVoltageOffset(3,0.5) \n",
    "inst_awg.setVoltageOffset(4,0.5)\n",
    "\n",
    "inst_awg.enableChanneloutput(1)\n",
    "inst_awg.enableChanneloutput(2)\n",
    "inst_awg.enableChanneloutput(3)\n",
    "inst_awg.enableChanneloutput(4)"
   ]
  },
  {
   "cell_type": "code",
   "execution_count": 11,
   "id": "04add838-7a77-4d9f-adab-a152f1f1cef8",
   "metadata": {},
   "outputs": [],
   "source": [
    "inst_awg.getError()"
   ]
  },
  {
   "cell_type": "code",
   "execution_count": 12,
   "id": "1f823f10-3513-499e-8b61-582a7d36ef88",
   "metadata": {},
   "outputs": [],
   "source": [
    "inst_awg.stop()"
   ]
  },
  {
   "cell_type": "code",
   "execution_count": 22,
   "id": "d5b8c8e3-2824-4da8-b3e4-63a38f292f39",
   "metadata": {},
   "outputs": [
    {
     "data": {
      "text/plain": [
       "(14.285714285714286, 4.166666666666667)"
      ]
     },
     "execution_count": 22,
     "metadata": {},
     "output_type": "execute_result"
    }
   ],
   "source": [
    "1/70e6*1e9, 1/240e6*1e9"
   ]
  },
  {
   "cell_type": "markdown",
   "id": "4e7f6455-df68-4033-86d6-aec664d05d59",
   "metadata": {},
   "source": [
    "## Configurar DataChannel"
   ]
  },
  {
   "cell_type": "code",
   "execution_count": 18,
   "id": "ae4b263a-351c-4530-9e6c-8e2e9056691a",
   "metadata": {},
   "outputs": [],
   "source": [
    "ms = DataChannelManager(inst_awg)\n",
    "\n",
    "ms.clearAwgChannel()\n",
    "\n",
    "ms.labelAwgChannel(channel = 2, # o canal do awg\n",
    "                        channelName = 'Q', markerValue = 1)\n",
    "\n",
    "ms.labelAwgChannel(channel = 1, # o canal do awg\n",
    "                        channelName = 'I', markerValue = 1)\n",
    "\n",
    "ms.labelAwgChannel(channel = 1, # o canal do awg\n",
    "                        channelName = 'm', markerValue = 2)"
   ]
  },
  {
   "cell_type": "code",
   "execution_count": 24,
   "id": "23371acc-a5a7-4791-907e-8bd9c763b73e",
   "metadata": {},
   "outputs": [
    {
     "name": "stdout",
     "output_type": "stream",
     "text": [
      "\u001b[1;31mInit signature:\u001b[0m \u001b[0mSquareSideBandPulse\u001b[0m\u001b[1;33m(\u001b[0m\u001b[0mlength\u001b[0m\u001b[1;33m,\u001b[0m \u001b[0mfrequency\u001b[0m\u001b[1;33m,\u001b[0m \u001b[0mamplitude\u001b[0m\u001b[1;33m=\u001b[0m\u001b[1;36m1\u001b[0m\u001b[1;33m)\u001b[0m\u001b[1;33m\u001b[0m\u001b[1;33m\u001b[0m\u001b[0m\n",
      "\u001b[1;31mDocstring:\u001b[0m      This class defines a pulse to be sent to the AWG.\n",
      "\u001b[1;31mFile:\u001b[0m           c:\\users\\franscisco rouxinol\\developer\\measurementlfdq\\src\\measurements\\waveforms\\squaresidebandpulse.py\n",
      "\u001b[1;31mType:\u001b[0m           ABCMeta\n",
      "\u001b[1;31mSubclasses:\u001b[0m     "
     ]
    }
   ],
   "source": [
    "SquareSideBandPulse?"
   ]
  },
  {
   "cell_type": "code",
   "execution_count": 16,
   "id": "aced298c",
   "metadata": {},
   "outputs": [],
   "source": [
    "import time"
   ]
  },
  {
   "cell_type": "markdown",
   "id": "514838dd",
   "metadata": {},
   "source": [
    "https://github.com/Rouxinol-Research-Lab/MeasurementsLFDQ/blob/main/src/instruments/DSOS604A_driver.py"
   ]
  },
  {
   "cell_type": "code",
   "execution_count": 20,
   "id": "00fa2674-4151-46ea-86fc-58b091af1528",
   "metadata": {},
   "outputs": [
    {
     "name": "stdout",
     "output_type": "stream",
     "text": [
      "bfr 0.004988431930541992\n",
      "aft 0.02593374252319336\n"
     ]
    }
   ],
   "source": [
    "#para equipamentos\n",
    "inst_awg.stop()\n",
    "inst_RFsourceExcitation.stop_rf()\n",
    "start=time.time()\n",
    "inst_RFsourceExcitation.set_amplitude(11)\n",
    "inst_RFsourceExcitation.set_frequency(3.5e9)\n",
    "print(\"bfr\",time.time()-start)\n",
    "inst_RFsourceExcitation.query(\"*OPC?\")\n",
    "print(\"aft\",time.time()-start)\n",
    "\n",
    "# Define-se um pulso Zero\n",
    "p1 = SquarePulse(length = 5e-9, amplitude =0.5)\n",
    "#p1 = GaussianPulse(length = 1e-7, amplitude =1,sigma=1e-8)\n",
    "#p1=SquareSideBandPulse(length=300e-6, frequency=100e6, amplitude=1)\n",
    "\n",
    "\n",
    "s1 = PulseSequence('Twotone', 10e-9)\n",
    "\n",
    "s1.clear()\n",
    "\n",
    "s1.add(p = p1, channel = 'I', delay = 0)\n",
    "\n",
    "p2 = SquarePulse(length = 5e-9, amplitude =1)\n",
    "s1.add(p = p2, channel = 'Q', delay = 0)\n",
    "\n",
    "#start=time.time()\n",
    "ms.prepareChannelData(sequence = s1, totalExperimentDuration = 500e-6)\n",
    "#print(\"bfr\",time.time()-start)\n",
    "#inst_awg.query(\"*OPC?\")\n",
    "#print(\"aft\",time.time()-start)\n",
    "\n",
    "sleep(2)\n",
    "inst_awg.freeMemory()\n",
    "sleep(0.5)\n",
    "ms.allocAwgMemory()\n",
    "sleep(0.5)\n",
    "ms.loadChannelDataToAwg('I')\n",
    "sleep(0.5)\n",
    "ms.loadChannelDataToAwg('Q')\n",
    "sleep(0.5)\n",
    "ms.setInstrumentsMarker(3)\n",
    "sleep(0.5)\n",
    "\n",
    "#sleep(1)\n",
    "inst_awg.getError()\n",
    "inst_RFsourceExcitation.start_rf()\n",
    "inst_awg.start()"
   ]
  },
  {
   "cell_type": "code",
   "execution_count": 67,
   "id": "4ea49113-cd3b-4d30-8876-832390a64c40",
   "metadata": {},
   "outputs": [
    {
     "ename": "VisaIOError",
     "evalue": "VI_ERROR_CONN_LOST (-1073807194): The connection for the given session has been lost.",
     "output_type": "error",
     "traceback": [
      "\u001b[1;31m---------------------------------------------------------------------------\u001b[0m",
      "\u001b[1;31mVisaIOError\u001b[0m                               Traceback (most recent call last)",
      "Cell \u001b[1;32mIn[67], line 3\u001b[0m\n\u001b[0;32m      1\u001b[0m \u001b[38;5;66;03m#10-13dB\u001b[39;00m\n\u001b[0;32m      2\u001b[0m \u001b[38;5;66;03m#3-7GHz\u001b[39;00m\n\u001b[1;32m----> 3\u001b[0m \u001b[43minst_RFsourceExcitation\u001b[49m\u001b[38;5;241;43m.\u001b[39;49m\u001b[43mset_amplitude\u001b[49m\u001b[43m(\u001b[49m\u001b[38;5;241;43m10\u001b[39;49m\u001b[43m)\u001b[49m\n\u001b[0;32m      4\u001b[0m inst_RFsourceExcitation\u001b[38;5;241m.\u001b[39mset_frequency(\u001b[38;5;241m3e9\u001b[39m)\n\u001b[0;32m      5\u001b[0m inst_RFsourceExcitation\u001b[38;5;241m.\u001b[39mstart_rf()\n",
      "File \u001b[1;32m~\\Developer\\MeasurementLFDQ\\src\\instruments\\E8257D_driver.py:59\u001b[0m, in \u001b[0;36mE8257D_driver.set_amplitude\u001b[1;34m(self, amp)\u001b[0m\n\u001b[0;32m     58\u001b[0m \u001b[38;5;28;01mdef\u001b[39;00m \u001b[38;5;21mset_amplitude\u001b[39m(\u001b[38;5;28mself\u001b[39m,amp):\n\u001b[1;32m---> 59\u001b[0m     \u001b[38;5;28;43mself\u001b[39;49m\u001b[38;5;241;43m.\u001b[39;49m\u001b[43mwrite\u001b[49m\u001b[43m(\u001b[49m\u001b[38;5;124;43m'\u001b[39;49m\u001b[38;5;124;43m:POWER \u001b[39;49m\u001b[38;5;132;43;01m{}\u001b[39;49;00m\u001b[38;5;124;43m dBm\u001b[39;49m\u001b[38;5;124;43m'\u001b[39;49m\u001b[38;5;241;43m.\u001b[39;49m\u001b[43mformat\u001b[49m\u001b[43m(\u001b[49m\u001b[43mamp\u001b[49m\u001b[43m)\u001b[49m\u001b[43m)\u001b[49m\n",
      "File \u001b[1;32m~\\Developer\\MeasurementLFDQ\\src\\instruments\\VisaInstrument.py:11\u001b[0m, in \u001b[0;36mVisaInstrument.write\u001b[1;34m(self, command)\u001b[0m\n\u001b[0;32m     10\u001b[0m \u001b[38;5;28;01mdef\u001b[39;00m \u001b[38;5;21mwrite\u001b[39m(\u001b[38;5;28mself\u001b[39m,command):\n\u001b[1;32m---> 11\u001b[0m     \u001b[38;5;28;01mreturn\u001b[39;00m \u001b[38;5;28;43mself\u001b[39;49m\u001b[38;5;241;43m.\u001b[39;49m\u001b[43m_inst\u001b[49m\u001b[38;5;241;43m.\u001b[39;49m\u001b[43mwrite\u001b[49m\u001b[43m(\u001b[49m\u001b[43mcommand\u001b[49m\u001b[43m)\u001b[49m\n",
      "File \u001b[1;32mc:\\Users\\Franscisco Rouxinol\\developer\\MeasurementLFDQ\\.venv\\Lib\\site-packages\\pyvisa\\resources\\messagebased.py:197\u001b[0m, in \u001b[0;36mMessageBasedResource.write\u001b[1;34m(self, message, termination, encoding)\u001b[0m\n\u001b[0;32m    191\u001b[0m         warnings\u001b[38;5;241m.\u001b[39mwarn(\n\u001b[0;32m    192\u001b[0m             \u001b[38;5;124m\"\u001b[39m\u001b[38;5;124mwrite message already ends with \u001b[39m\u001b[38;5;124m\"\u001b[39m \u001b[38;5;124m\"\u001b[39m\u001b[38;5;124mtermination characters\u001b[39m\u001b[38;5;124m\"\u001b[39m,\n\u001b[0;32m    193\u001b[0m             stacklevel\u001b[38;5;241m=\u001b[39m\u001b[38;5;241m2\u001b[39m,\n\u001b[0;32m    194\u001b[0m         )\n\u001b[0;32m    195\u001b[0m     message \u001b[38;5;241m+\u001b[39m\u001b[38;5;241m=\u001b[39m term\n\u001b[1;32m--> 197\u001b[0m count \u001b[38;5;241m=\u001b[39m \u001b[38;5;28;43mself\u001b[39;49m\u001b[38;5;241;43m.\u001b[39;49m\u001b[43mwrite_raw\u001b[49m\u001b[43m(\u001b[49m\u001b[43mmessage\u001b[49m\u001b[38;5;241;43m.\u001b[39;49m\u001b[43mencode\u001b[49m\u001b[43m(\u001b[49m\u001b[43menco\u001b[49m\u001b[43m)\u001b[49m\u001b[43m)\u001b[49m\n\u001b[0;32m    199\u001b[0m \u001b[38;5;28;01mreturn\u001b[39;00m count\n",
      "File \u001b[1;32mc:\\Users\\Franscisco Rouxinol\\developer\\MeasurementLFDQ\\.venv\\Lib\\site-packages\\pyvisa\\resources\\messagebased.py:157\u001b[0m, in \u001b[0;36mMessageBasedResource.write_raw\u001b[1;34m(self, message)\u001b[0m\n\u001b[0;32m    143\u001b[0m \u001b[38;5;28;01mdef\u001b[39;00m \u001b[38;5;21mwrite_raw\u001b[39m(\u001b[38;5;28mself\u001b[39m, message: \u001b[38;5;28mbytes\u001b[39m) \u001b[38;5;241m-\u001b[39m\u001b[38;5;241m>\u001b[39m \u001b[38;5;28mint\u001b[39m:\n\u001b[0;32m    144\u001b[0m \u001b[38;5;250m    \u001b[39m\u001b[38;5;124;03m\"\"\"Write a byte message to the device.\u001b[39;00m\n\u001b[0;32m    145\u001b[0m \n\u001b[0;32m    146\u001b[0m \u001b[38;5;124;03m    Parameters\u001b[39;00m\n\u001b[1;32m   (...)\u001b[0m\n\u001b[0;32m    155\u001b[0m \n\u001b[0;32m    156\u001b[0m \u001b[38;5;124;03m    \"\"\"\u001b[39;00m\n\u001b[1;32m--> 157\u001b[0m     \u001b[38;5;28;01mreturn\u001b[39;00m \u001b[38;5;28;43mself\u001b[39;49m\u001b[38;5;241;43m.\u001b[39;49m\u001b[43mvisalib\u001b[49m\u001b[38;5;241;43m.\u001b[39;49m\u001b[43mwrite\u001b[49m\u001b[43m(\u001b[49m\u001b[38;5;28;43mself\u001b[39;49m\u001b[38;5;241;43m.\u001b[39;49m\u001b[43msession\u001b[49m\u001b[43m,\u001b[49m\u001b[43m \u001b[49m\u001b[43mmessage\u001b[49m\u001b[43m)\u001b[49m[\u001b[38;5;241m0\u001b[39m]\n",
      "File \u001b[1;32mc:\\Users\\Franscisco Rouxinol\\developer\\MeasurementLFDQ\\.venv\\Lib\\site-packages\\pyvisa\\ctwrapper\\functions.py:2796\u001b[0m, in \u001b[0;36mwrite\u001b[1;34m(library, session, data)\u001b[0m\n\u001b[0;32m   2794\u001b[0m return_count \u001b[38;5;241m=\u001b[39m ViUInt32()\n\u001b[0;32m   2795\u001b[0m \u001b[38;5;66;03m# [ViSession, ViBuf, ViUInt32, ViPUInt32]\u001b[39;00m\n\u001b[1;32m-> 2796\u001b[0m ret \u001b[38;5;241m=\u001b[39m \u001b[43mlibrary\u001b[49m\u001b[38;5;241;43m.\u001b[39;49m\u001b[43mviWrite\u001b[49m\u001b[43m(\u001b[49m\u001b[43msession\u001b[49m\u001b[43m,\u001b[49m\u001b[43m \u001b[49m\u001b[43mdata\u001b[49m\u001b[43m,\u001b[49m\u001b[43m \u001b[49m\u001b[38;5;28;43mlen\u001b[39;49m\u001b[43m(\u001b[49m\u001b[43mdata\u001b[49m\u001b[43m)\u001b[49m\u001b[43m,\u001b[49m\u001b[43m \u001b[49m\u001b[43mbyref\u001b[49m\u001b[43m(\u001b[49m\u001b[43mreturn_count\u001b[49m\u001b[43m)\u001b[49m\u001b[43m)\u001b[49m\n\u001b[0;32m   2797\u001b[0m \u001b[38;5;28;01mreturn\u001b[39;00m return_count\u001b[38;5;241m.\u001b[39mvalue, ret\n",
      "File \u001b[1;32mc:\\Users\\Franscisco Rouxinol\\developer\\MeasurementLFDQ\\.venv\\Lib\\site-packages\\pyvisa\\ctwrapper\\highlevel.py:226\u001b[0m, in \u001b[0;36mIVIVisaLibrary._return_handler\u001b[1;34m(self, ret_value, func, arguments)\u001b[0m\n\u001b[0;32m    223\u001b[0m         \u001b[38;5;66;03m# Set session back to a safe value\u001b[39;00m\n\u001b[0;32m    224\u001b[0m         session \u001b[38;5;241m=\u001b[39m \u001b[38;5;28;01mNone\u001b[39;00m\n\u001b[1;32m--> 226\u001b[0m \u001b[38;5;28;01mreturn\u001b[39;00m \u001b[38;5;28;43mself\u001b[39;49m\u001b[38;5;241;43m.\u001b[39;49m\u001b[43mhandle_return_value\u001b[49m\u001b[43m(\u001b[49m\u001b[43msession\u001b[49m\u001b[43m,\u001b[49m\u001b[43m \u001b[49m\u001b[43mret_value\u001b[49m\u001b[43m)\u001b[49m\n",
      "File \u001b[1;32mc:\\Users\\Franscisco Rouxinol\\developer\\MeasurementLFDQ\\.venv\\Lib\\site-packages\\pyvisa\\highlevel.py:251\u001b[0m, in \u001b[0;36mVisaLibraryBase.handle_return_value\u001b[1;34m(self, session, status_code)\u001b[0m\n\u001b[0;32m    248\u001b[0m     \u001b[38;5;28mself\u001b[39m\u001b[38;5;241m.\u001b[39m_last_status_in_session[session] \u001b[38;5;241m=\u001b[39m rv\n\u001b[0;32m    250\u001b[0m \u001b[38;5;28;01mif\u001b[39;00m rv \u001b[38;5;241m<\u001b[39m \u001b[38;5;241m0\u001b[39m:\n\u001b[1;32m--> 251\u001b[0m     \u001b[38;5;28;01mraise\u001b[39;00m errors\u001b[38;5;241m.\u001b[39mVisaIOError(rv)\n\u001b[0;32m    253\u001b[0m \u001b[38;5;28;01mif\u001b[39;00m rv \u001b[38;5;129;01min\u001b[39;00m \u001b[38;5;28mself\u001b[39m\u001b[38;5;241m.\u001b[39missue_warning_on:\n\u001b[0;32m    254\u001b[0m     \u001b[38;5;28;01mif\u001b[39;00m session \u001b[38;5;129;01mand\u001b[39;00m rv \u001b[38;5;129;01mnot\u001b[39;00m \u001b[38;5;129;01min\u001b[39;00m \u001b[38;5;28mself\u001b[39m\u001b[38;5;241m.\u001b[39m_ignore_warning_in_session[session]:\n",
      "\u001b[1;31mVisaIOError\u001b[0m: VI_ERROR_CONN_LOST (-1073807194): The connection for the given session has been lost."
     ]
    }
   ],
   "source": [
    "#10-13dB\n",
    "#3-7GHz\n",
    "inst_RFsourceExcitation.set_amplitude(10)\n",
    "inst_RFsourceExcitation.set_frequency(3e9)\n",
    "inst_RFsourceExcitation.start_rf()"
   ]
  },
  {
   "cell_type": "code",
   "execution_count": 35,
   "id": "1b4daf41-13b1-41da-b962-50d1b8f4ae82",
   "metadata": {},
   "outputs": [],
   "source": [
    "inst_awg.start()"
   ]
  },
  {
   "cell_type": "code",
   "execution_count": 59,
   "id": "b09e451d-af58-46be-985f-20349d1ae689",
   "metadata": {},
   "outputs": [],
   "source": [
    "inst_awg.stop()\n",
    "inst_RFsourceExcitation.stop_rf()"
   ]
  },
  {
   "cell_type": "code",
   "execution_count": 65,
   "id": "a6f8a3ef-bba2-405f-9af3-9ee04f988706",
   "metadata": {},
   "outputs": [],
   "source": [
    "inst_RFsourceExcitation.stop_rf()\n",
    "inst_RFsourceExcitation.set_amplitude(11)\n",
    "inst_RFsourceExcitation.set_frequency(6e9)\n",
    "inst_RFsourceExcitation.start_rf()"
   ]
  },
  {
   "cell_type": "code",
   "execution_count": null,
   "id": "1e71ae3d",
   "metadata": {},
   "outputs": [],
   "source": []
  }
 ],
 "metadata": {
  "kernelspec": {
   "display_name": "Python 3 (ipykernel)",
   "language": "python",
   "name": "python3"
  },
  "language_info": {
   "codemirror_mode": {
    "name": "ipython",
    "version": 3
   },
   "file_extension": ".py",
   "mimetype": "text/x-python",
   "name": "python",
   "nbconvert_exporter": "python",
   "pygments_lexer": "ipython3",
   "version": "3.11.9"
  }
 },
 "nbformat": 4,
 "nbformat_minor": 5
}
